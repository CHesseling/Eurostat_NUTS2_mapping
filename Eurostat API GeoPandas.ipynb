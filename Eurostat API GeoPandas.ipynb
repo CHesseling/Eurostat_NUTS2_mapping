{
 "cells": [
  {
   "cell_type": "markdown",
   "metadata": {},
   "source": [
    "# API'ing Eurostat and building maps with eurostatapiclient"
   ]
  },
  {
   "cell_type": "markdown",
   "metadata": {},
   "source": [
    "Eurostat's API is a bit complicated to use. You can make use of their query builder to understand the structure: <br>\n",
    "Query Builder: https://ec.europa.eu/eurostat/web/json-and-unicode-web-services/getting-started/query-builder<br>\n",
    "But fortunately there is a Python wrapper: eurostatapiclient"
   ]
  },
  {
   "cell_type": "code",
   "execution_count": null,
   "metadata": {},
   "outputs": [],
   "source": [
    "%matplotlib inline  "
   ]
  },
  {
   "cell_type": "code",
   "execution_count": null,
   "metadata": {},
   "outputs": [],
   "source": [
    "!pip install -r requirements.txt"
   ]
  },
  {
   "cell_type": "markdown",
   "metadata": {},
   "source": [
    "In case you don't use requirements.txt uncomment the following modules:"
   ]
  },
  {
   "cell_type": "code",
   "execution_count": null,
   "metadata": {},
   "outputs": [],
   "source": [
    "#import pandas as pd\n",
    "#from pandas.io.json import json_normalize\n",
    "#import numpy as np\n",
    "#import json\n",
    "#import geopandas as gpd\n",
    "#import matplotlib\n",
    "#import matplotlib.pyplot as plt\n",
    "\n",
    "#And now: The Eurostat API wrapper - find it here: https://github.com/opus-42/eurostat-api-client\n",
    "#from eurostatapiclient import EurostatAPIClient"
   ]
  },
  {
   "cell_type": "code",
   "execution_count": null,
   "metadata": {},
   "outputs": [],
   "source": [
    "VERSION = 'v2.1'\n",
    "\n",
    "# only json supported\n",
    "FORMAT = 'json'\n",
    "\n",
    "# Specify language : en, fr, de\n",
    "LANGUAGE = 'en'\n",
    "\n",
    "# initializing\n",
    "client = EurostatAPIClient(VERSION, FORMAT, LANGUAGE)"
   ]
  },
  {
   "cell_type": "code",
   "execution_count": null,
   "metadata": {},
   "outputs": [],
   "source": [
    "# get the dataset by using Eurostat's ids\n",
    "# e.g. from here: https://ec.europa.eu/eurostat/web/regions/data/database\n",
    "\n",
    "id = 'tgs00101'\n",
    "\n",
    "# You can define some filters \n",
    "\n",
    "params = {\n",
    "    #'geo': 'DE',\n",
    "    'time': '2017',\n",
    "    #'sex' : 'F'\n",
    "}\n",
    "\n",
    "time = params['time']\n",
    "\n",
    "filtered_dataset = client.get_dataset(id, params=params)\n",
    "\n",
    "\n",
    "filtered_dataframe = filtered_dataset.to_dataframe()"
   ]
  },
  {
   "cell_type": "code",
   "execution_count": null,
   "metadata": {},
   "outputs": [],
   "source": [
    "# extract the title of the dataset\n",
    "title = filtered_dataset.label"
   ]
  },
  {
   "cell_type": "code",
   "execution_count": null,
   "metadata": {},
   "outputs": [],
   "source": [
    "# take a quick look at the dataframe\n",
    "# Column \"geo\" should show you the NUTS2 regional code\n",
    "filtered_dataframe.head()"
   ]
  },
  {
   "cell_type": "code",
   "execution_count": null,
   "metadata": {},
   "outputs": [],
   "source": [
    "filtered_dataframe.info()"
   ]
  },
  {
   "cell_type": "code",
   "execution_count": null,
   "metadata": {},
   "outputs": [],
   "source": [
    "# finding max value\n",
    "filtered_dataframe.loc[filtered_dataframe['values'].idxmax()]"
   ]
  },
  {
   "cell_type": "markdown",
   "metadata": {},
   "source": [
    "# GeoJSON"
   ]
  },
  {
   "cell_type": "markdown",
   "metadata": {},
   "source": [
    "Ok, let's start with the mappoing"
   ]
  },
  {
   "cell_type": "code",
   "execution_count": null,
   "metadata": {},
   "outputs": [],
   "source": [
    "# Get the NUTS2 GeoJSON here: https://github.com/eurostat/Nuts2json\n",
    "map_df = gpd.read_file(\"https://raw.githubusercontent.com/eurostat/Nuts2json/gh-pages/2016/3035/20M/2.json\")\n"
   ]
  },
  {
   "cell_type": "code",
   "execution_count": null,
   "metadata": {},
   "outputs": [],
   "source": [
    "# Rename the column \"id\" to \"geo\"\n",
    "map_df['geo'] = map_df['id'] "
   ]
  },
  {
   "cell_type": "code",
   "execution_count": null,
   "metadata": {},
   "outputs": [],
   "source": [
    "map_df.head()"
   ]
  },
  {
   "cell_type": "code",
   "execution_count": null,
   "metadata": {},
   "outputs": [],
   "source": [
    "# Quick plot of the GeoJSON\n",
    "map_df.plot()"
   ]
  },
  {
   "cell_type": "code",
   "execution_count": null,
   "metadata": {
    "scrolled": true
   },
   "outputs": [],
   "source": [
    "# Map the corresponding NUTS2 columns from Eurostat's dataset and the GeoJSON and merge the two dataframes\n",
    "\n",
    "merged = map_df.merge(filtered_dataframe, left_on='geo', right_on='geo')\n",
    "\n",
    "merged.head(10)"
   ]
  },
  {
   "cell_type": "code",
   "execution_count": null,
   "metadata": {},
   "outputs": [],
   "source": [
    "# set a variable that will call whatever column we want to visualise on the map\n",
    "\n",
    "variable = 'values'\n",
    "\n",
    "# set the range for the Choropleth colours\n",
    "\n",
    "vmax = filtered_dataframe.loc[filtered_dataframe['values'].idxmax()]['values']\n",
    "vmin = filtered_dataframe.loc[filtered_dataframe['values'].idxmin()]['values']\n",
    "\n",
    "# Check\n",
    "print(vmax, vmin)\n",
    "\n",
    "# Optional: You could set vmin = 0\n",
    "# vmin = 0"
   ]
  },
  {
   "cell_type": "code",
   "execution_count": null,
   "metadata": {},
   "outputs": [],
   "source": [
    "# headline / title\n",
    "\n",
    "headline = \"Growing old in southern Europe\""
   ]
  },
  {
   "cell_type": "code",
   "execution_count": null,
   "metadata": {},
   "outputs": [],
   "source": [
    "fig, ax = plt.subplots(1, figsize=(12, 8))\n",
    "\n",
    "merged.plot(column='values', cmap='Blues', k=5, linewidth=0.3, ax=ax, edgecolor='0.9', vmin=vmin, vmax=vmax)  \n",
    "\n",
    "# remove the Axis\n",
    "ax.axis('off')\n",
    "\n",
    "# Add a headline \n",
    "fig.suptitle(headline, fontsize=22, fontweight='bold')\n",
    "\n",
    "# Use the Axis title for subtitle - e.g. the extracted title from above\n",
    "ax.set_title(title, fontdict={'fontsize': '14', 'fontweight' : '3'})\n",
    "\n",
    "annotation = \"Map by XY/Media outlet, data source: Eurostat, \" + time\n",
    "\n",
    "\n",
    "# Add the Source\n",
    "ax.annotate(annotation,xy=(0.1, .08),  xycoords='figure fraction', horizontalalignment='left', verticalalignment='top', fontsize=12, color='#555555')\n",
    "\n",
    "# Create colorbar as a legend\n",
    "sm = plt.cm.ScalarMappable(cmap='Blues', norm=plt.Normalize(vmin=vmin, vmax=vmax))\n",
    "\n",
    "# empty array for the data range\n",
    "sm._A = []\n",
    "\n",
    "# add the colorbar to the figure\n",
    "cbar = fig.colorbar(sm)\n",
    "\n"
   ]
  },
  {
   "cell_type": "code",
   "execution_count": null,
   "metadata": {},
   "outputs": [],
   "source": [
    "fig.savefig(\"map_export.png\", dpi=300)\n",
    "fig.savefig(\"map_export_illustrator.svg\", dpi=300)"
   ]
  }
 ],
 "metadata": {
  "kernelspec": {
   "display_name": "Python 3",
   "language": "python",
   "name": "python3"
  },
  "language_info": {
   "codemirror_mode": {
    "name": "ipython",
    "version": 3
   },
   "file_extension": ".py",
   "mimetype": "text/x-python",
   "name": "python",
   "nbconvert_exporter": "python",
   "pygments_lexer": "ipython3",
   "version": "3.6.4"
  }
 },
 "nbformat": 4,
 "nbformat_minor": 2
}
